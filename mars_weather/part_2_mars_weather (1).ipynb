{
 "cells": [
  {
   "cell_type": "code",
   "execution_count": null,
   "id": "08c1cfe4-b2cb-4d31-a5bb-351cf5b82d44",
   "metadata": {},
   "outputs": [],
   "source": [
    "# Import relevant libraries\n",
    "from splinter import Browser\n",
    "from bs4 import BeautifulSoup as soup\n",
    "import matplotlib.pyplot as plt\n",
    "import pandas as pd\n",
    "import datetime"
   ]
  },
  {
   "cell_type": "code",
   "execution_count": null,
   "id": "ae196a83-867f-4855-89f8-ff492e9f6bd5",
   "metadata": {},
   "outputs": [],
   "source": [
    "browser = Browser('chrome')"
   ]
  },
  {
   "cell_type": "code",
   "execution_count": null,
   "id": "3f9605c3-ffdf-4e3d-abcd-da33266b08e8",
   "metadata": {},
   "outputs": [],
   "source": [
    "# Visit the website\n",
    "# https://static.bc-edx.com/data/web/mars_facts/temperature.html\n",
    "url = 'https://static.bc-edx.com/data/web/mars_facts/temperature.html'\n",
    "browser.visit(url)"
   ]
  },
  {
   "cell_type": "code",
   "execution_count": null,
   "id": "991db858-b906-4330-9b08-f1c59793aaff",
   "metadata": {},
   "outputs": [],
   "source": [
    "# Create a Beautiful Soup Object\n",
    "html = browser.html\n",
    "mars_soup = soup(html, \"html.parser\")\n",
    "mars_soup"
   ]
  },
  {
   "cell_type": "code",
   "execution_count": null,
   "id": "21a634e4-605c-400f-a2f4-ef35244ae6e8",
   "metadata": {},
   "outputs": [],
   "source": [
    "# Extract all rows of data\n",
    "table_elements = mars_soup.find_all(\"tr\", class_=\"data-row\")\n",
    "table_elements"
   ]
  },
  {
   "cell_type": "code",
   "execution_count": null,
   "id": "ccb3c605-e04f-471f-bfcf-cd18f92cceac",
   "metadata": {},
   "outputs": [],
   "source": [
    "#scratch work\n",
    "table_elements[0].find_all(\"td\")"
   ]
  },
  {
   "cell_type": "code",
   "execution_count": null,
   "id": "35617362-9507-4b47-97dd-2bac19be0270",
   "metadata": {},
   "outputs": [],
   "source": [
    "#Credit to Instructor Eli Rosenberg for this section of code - it was shared during lecture\n",
    "# Create an empty list\n",
    "data_rows = []\n",
    "# Loop through the scraped data to create a list of rows\n",
    "for row in table_elements:\n",
    "    cell_values = row.find_all(\"td\")\n",
    "    values = []\n",
    "    for value in cell_values:\n",
    "        values.append(value.text)\n",
    "    data_rows.append(values)\n",
    "\n",
    "data_rows"
   ]
  },
  {
   "cell_type": "code",
   "execution_count": null,
   "id": "2122dae4-f625-435d-978c-177dd5d7cb64",
   "metadata": {},
   "outputs": [],
   "source": [
    "# Create a Pandas DataFrame by using the list of rows and a list of the column names\n",
    "mars_df = pd.DataFrame(data_rows, columns = ['id', 'terrestrial_date', 'sol', 'ls', 'month', 'min_temp', 'pressure'])"
   ]
  },
  {
   "cell_type": "code",
   "execution_count": null,
   "id": "c938c8e1-9fda-4d3f-af8a-1fb90d6a4ba3",
   "metadata": {},
   "outputs": [],
   "source": [
    "# Confirm DataFrame was created successfully\n",
    "mars_df"
   ]
  },
  {
   "cell_type": "code",
   "execution_count": null,
   "id": "3936535c-2880-4496-a79c-5d18d2daf386",
   "metadata": {},
   "outputs": [],
   "source": [
    "# Examine data type of each column\n",
    "mars_df.dtypes"
   ]
  },
  {
   "cell_type": "code",
   "execution_count": null,
   "id": "c610c8f4-08c7-471b-baef-f71ea5e95fd7",
   "metadata": {},
   "outputs": [],
   "source": [
    "# Confirm type changes were successful by examining data types again\n",
    "mars_df.dtypes"
   ]
  },
  {
   "cell_type": "code",
   "execution_count": null,
   "id": "287919f3-068f-4ae2-a924-0746bef8cf7c",
   "metadata": {},
   "outputs": [],
   "source": [
    "# 1. How many months are there on Mars?\n",
    "mars_df['month'].max()"
   ]
  },
  {
   "cell_type": "code",
   "execution_count": null,
   "id": "c8455f67-3bb2-4172-9cf7-30866796f154",
   "metadata": {},
   "outputs": [],
   "source": [
    "# 2. How many Martian days' worth of data are there?\n",
    "length_of_list = len(mars_df)\n",
    "mars_days_max = mars_df[\"sol\"].max()\n",
    "mars_days_min = mars_df[\"sol\"].min()\n",
    "mars_days = mars_days_max - mars_days_min\n",
    "print(f\"Total number of data entries: {length_of_list}\")\n",
    "print(f\"Max recorded sol value: {mars_days_max}\")\n",
    "print(f\"Min recoreded sol value: {mars_days_min}\")\n",
    "print(f\"Number of Mars Days (with 100 missing entries): {mars_days}\")"
   ]
  },
  {
   "cell_type": "code",
   "execution_count": null,
   "id": "e3555e28-729a-4f3d-89d2-dd28ef13af55",
   "metadata": {},
   "outputs": [],
   "source": [
    "# 3. What is the average low temperature by month?\n",
    "average_low_temp = mars_df[\"min_temp\"].groupby(mars_df['month']).mean()\n",
    "average_low_temp"
   ]
  },
  {
   "cell_type": "code",
   "execution_count": null,
   "id": "9d2bdeae-e5a7-4b73-9b97-0829441c62fb",
   "metadata": {},
   "outputs": [],
   "source": [
    "# Plot the average temperature by month\n",
    "average_low_temp.plot.bar(rot = 0)\n",
    "plt.ylabel(\"average_low_temp\")"
   ]
  },
  {
   "cell_type": "code",
   "execution_count": null,
   "id": "d2446522-bf45-4d5d-abf5-72ae2858cc35",
   "metadata": {},
   "outputs": [],
   "source": [
    "# Identify the coldest and hottest months in Curiosity's location\n",
    "hottest_month = average_low_temp.idxmax()\n",
    "hottest_month_temp = average_low_temp.max()\n",
    "coldest_month = average_low_temp.idxmin()\n",
    "coldest_month_temp = average_low_temp.min()\n",
    "print(f\"Month #{hottest_month} had the hottest average temperature of {hottest_month_temp}\")\n",
    "print(f\"Month #{coldest_month} had the coldest average temperature of {coldest_month_temp}\")"
   ]
  },
  {
   "cell_type": "code",
   "execution_count": null,
   "id": "ad2befe3-1e46-4397-a987-99e0f52b1deb",
   "metadata": {},
   "outputs": [],
   "source": [
    "# 4. Average pressure by Martian month\n",
    "avg_pressure_monthly = mars_df[\"pressure\"].groupby(mars_df[\"month\"]).mean()\n",
    "avg_pressure_monthly"
   ]
  },
  {
   "cell_type": "code",
   "execution_count": null,
   "id": "a9befef5-3400-4bbe-be34-3846c2e38efa",
   "metadata": {},
   "outputs": [],
   "source": [
    "# Plot the average pressure by month\n",
    "avg_pressure_monthly.plot.bar(rot=0)\n",
    "plt.ylabel(\"Pressure (mmHg)\")"
   ]
  },
  {
   "cell_type": "code",
   "execution_count": null,
   "id": "b076df5c-ef92-4720-ae8d-2b55de1a23f3",
   "metadata": {},
   "outputs": [],
   "source": [
    "# 5. How many terrestrial (earth) days are there in a Martian year?\n",
    "new_mars_df = mars_df.set_index(\"terrestrial_date\")\n",
    "new_mars_df"
   ]
  },
  {
   "cell_type": "code",
   "execution_count": null,
   "id": "2af71bfa-102c-461a-b9fd-5cdf19aa90f6",
   "metadata": {},
   "outputs": [],
   "source": [
    "#find all ls= 0 dates\n",
    "ls_0_list = new_mars_df.loc[new_mars_df[\"ls\"] == 0]\n",
    "ls_0_list"
   ]
  },
  {
   "cell_type": "code",
   "execution_count": null,
   "id": "c08c15ac-7068-4d5a-9517-0df24cde7458",
   "metadata": {},
   "outputs": [],
   "source": [
    "ls_359_list = new_mars_df.loc[new_mars_df[\"ls\"] == 359]\n",
    "ls_359_list"
   ]
  },
  {
   "cell_type": "code",
   "execution_count": null,
   "id": "fa9b66be-9189-47d3-88d8-ca35ae9aeb26",
   "metadata": {},
   "outputs": [],
   "source": [
    "#one mars year is the amount of time it takes for 'ls' to cycle from 0 to 359, aka one full revolution around the sun\n",
    "date_359 = '2015-06-17'\n",
    "date_359_val = datetime.datetime.strptime(date_359, \"%Y-%m-%d\")\n",
    "date_359_val"
   ]
  },
  {
   "cell_type": "code",
   "execution_count": null,
   "id": "05a6094a-49ec-4c5d-b768-190559c798b8",
   "metadata": {},
   "outputs": [],
   "source": [
    "date_0 = '2013-08-01'\n",
    "date_0_val = datetime.datetime.strptime(date_0, \"%Y-%m-%d\")\n",
    "date_0_val"
   ]
  },
  {
   "cell_type": "code",
   "execution_count": null,
   "id": "5412518a-7585-4aae-8dbb-df03704313ba",
   "metadata": {},
   "outputs": [],
   "source": [
    "# 5. How many terrestrial (earth) days are there in a Martian year?\n",
    "mars_year_days = date_359_val-date_0_val\n",
    "print(f\"One Mars year is ({mars_year_days}) Earth Days\")"
   ]
  },
  {
   "cell_type": "code",
   "execution_count": null,
   "id": "1407f915-5a2a-48b7-99b2-ab557bb0e737",
   "metadata": {},
   "outputs": [],
   "source": [
    "#disregard, scratch code\n",
    "mars_ls_max = new_mars_df[\"ls\"].max()\n",
    "mars_ls_min = new_mars_df[\"ls\"].min()\n",
    "mars_ls_max_date = new_mars_df[\"ls\"].idxmax()\n",
    "mars_ls_min_date = new_mars_df[\"ls\"].idxmin()\n",
    "print(mars_ls_max)\n",
    "print(mars_ls_max_date)\n",
    "print(mars_ls_min)\n",
    "print(mars_ls_min_date)"
   ]
  },
  {
   "cell_type": "code",
   "execution_count": null,
   "id": "7ac55e73-e3e0-4681-97e7-92e059de9489",
   "metadata": {},
   "outputs": [],
   "source": [
    "# Write the data to a CSV\n",
    "output_path = \"mars_data.csv\"\n",
    "new_mars_df.to_csv(output_path)"
   ]
  },
  {
   "cell_type": "code",
   "execution_count": null,
   "id": "ffaebe3b-d505-47d8-a32d-ef3f25887bf4",
   "metadata": {},
   "outputs": [],
   "source": [
    "browser.quit()"
   ]
  }
 ],
 "metadata": {
  "kernelspec": {
   "display_name": "Python 3 (ipykernel)",
   "language": "python",
   "name": "python3"
  },
  "language_info": {
   "codemirror_mode": {
    "name": "ipython",
    "version": 3
   },
   "file_extension": ".py",
   "mimetype": "text/x-python",
   "name": "python",
   "nbconvert_exporter": "python",
   "pygments_lexer": "ipython3",
   "version": "3.10.15"
  }
 },
 "nbformat": 4,
 "nbformat_minor": 5
}
